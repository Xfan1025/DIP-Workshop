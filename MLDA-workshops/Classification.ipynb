{
 "cells": [
  {
   "cell_type": "markdown",
   "metadata": {},
   "source": [
    "# MLDA@EEE Workshop Part III - Classification\n",
    "\n",
    "* Agenda\n",
    "  * Briefing to Concepts and Theory ~ 30m\n",
    "  * Walkthrough of Code for building up Decision Tree Classifier using sklearn ~ 50m\n",
    "  * Summary & Briefing ~ 10m\n",
    "* Notebook available on [github](https://github.com/Xfan1025/MLDA-Workshop/tree/master/MLDA-workshops)\n",
    "* Algorithm to cover: Decision Tree. [Recommend reading](https://medium.com/deep-math-machine-learning-ai/chapter-4-decision-trees-algorithms-b93975f7a1f1)\n",
    "* Data: **Titanic: Machine Learning from Disaster** [link to data on kaggle](https://www.kaggle.com/c/titanic/data)"
   ]
  },
  {
   "cell_type": "markdown",
   "metadata": {},
   "source": [
    "## Introduction\n",
    "\n",
    "![intro](./assets/classification-intro.png)\n",
    "\n",
    "* Classification is the task of assigning objects to one of the several predefined categories(classes)\n",
    "* Classification has many applications\n",
    "  * Email spam & fraud detection\n",
    "  * Facial recognition\n",
    "  * Medical detection (eg. tumor/cancer detection)\n",
    "  * Self-driving car\n",
    "  * .etc\n",
    "  \n",
    "## Workflow\n",
    "* Typical workflow for ML engineers consists of two phases: **training** and **inference** phase.\n",
    "* Training phase generally refers to learning a mapping function, y=f(X), that can predict the class label y of a given data sample X.\n",
    "\n",
    "#### Overview of training pipeline\n",
    "![appraoch](./assets/classification-approach.png)\n"
   ]
  },
  {
   "cell_type": "markdown",
   "metadata": {},
   "source": [
    "### Evaluation\n",
    "Mathematical measurements of your model's performance. Typical metrics:\n",
    "* Accuracy / Error Rate\n",
    "* Sensitivity / Specificity\n",
    "* Precision / Recall\n",
    "* F1 Score"
   ]
  },
  {
   "cell_type": "markdown",
   "metadata": {},
   "source": [
    "<img src='./assets/eval-1.png' style=\"float: left;\" width='400' height='500'> <img src='./assets/eval-2.png' style=\"float: right;\" width='400' height='500'>\n",
    "\n"
   ]
  },
  {
   "cell_type": "markdown",
   "metadata": {},
   "source": [
    "### Inference\n",
    "**Inference** refers to the step where the trained model is used to predict the class labels for coming (unseen) data. It is highly linked to production deployment."
   ]
  },
  {
   "cell_type": "markdown",
   "metadata": {},
   "source": [
    "## Algorithms\n",
    "There are many popular classification algorithms. To name a few:\n",
    "* Bayesian classification\n",
    "* Decition Tree\n",
    "* Support Vector Machine\n",
    "* Neural Network\n",
    "\n",
    "## Intro to Decision Trees\n",
    "* A decision tree is a flowchart-like tree structrue, where\n",
    "  * each internal node (non-leaf node) denotes a test on an attribute\n",
    "  * each branch represents an outcome of the test\n",
    "  * each leaf node holds a class label\n",
    "  \n",
    "![dt-intro](./assets/DT-intro.png)\n",
    "\n",
    "### Intuition\n",
    "\n",
    "* Considering the case of a computer shop:\n",
    "<img src=\"./assets/example-1.png\" width=\"80%\" height=\"80%\">\n",
    "\n",
    "* The result of partitioning dataset using the age attribute\n",
    "<img src=\"./assets/example-2.png\" width=\"80%\" height=\"80%\">\n",
    "\n",
    "* The intuition behind decision trees is based on the idea that we can classify an object through asking a sequence of questions about its attributes"
   ]
  },
  {
   "cell_type": "markdown",
   "metadata": {},
   "source": [
    "### Attribute Selection Measurements\n",
    "* A scientific way of determining how the dataset at a given node is to be split\n",
    "* It provides a ranking for attribute describing the given training samples\n",
    "* Popular measurements for attribute selection:\n",
    "  * Information Gain - ID3\n",
    "  * Gain Ratio - C4.5\n",
    "  * Gini Index - CART\n",
    " \n",
    "* Fun math for you to play with:\n",
    "  * Search the formula of entropy\n",
    "  * Compute information gain of 1) equally distributed classes 2) uniformly distributed class\n",
    "* For detailed formula and computation, refer to [wikipedia](https://en.wikipedia.org/wiki/Decision_tree_learning#Metrics) or [sklearn implementation](https://en.wikipedia.org/wiki/Decision_tree_learning#Metrics)\n",
    "* Many ML library implemented the DT classifier for you and allows you to choose between those measurements with ease!"
   ]
  },
  {
   "cell_type": "markdown",
   "metadata": {},
   "source": [
    "### Hands On\n",
    "* Kaggle competition - **Titanic: Machine Learning from Disaster**\n",
    "  * Binary Classification - Predict if a person can survive on Titanic or not\n",
    "* Notebook available on [github](https://github.com/Xfan1025/MLDA-Workshop/tree/master/MLDA-workshops)\n",
    "* Data: **Titanic: Machine Learning from Disaster** [link to data on kaggle](https://www.kaggle.com/c/titanic/data)"
   ]
  },
  {
   "cell_type": "code",
   "execution_count": 1,
   "metadata": {},
   "outputs": [],
   "source": [
    "# import some packages you learned in previous workshops\n",
    "import numpy as np\n",
    "import pandas as pd\n",
    "import matplotlib.pyplot as plt\n",
    "%matplotlib inline"
   ]
  },
  {
   "cell_type": "code",
   "execution_count": 2,
   "metadata": {},
   "outputs": [],
   "source": [
    "train_data = pd.read_csv('./data/train.csv')\n",
    "test_data = pd.read_csv('./data/test.csv')"
   ]
  },
  {
   "cell_type": "code",
   "execution_count": 3,
   "metadata": {},
   "outputs": [
    {
     "data": {
      "text/html": [
       "<div>\n",
       "<style scoped>\n",
       "    .dataframe tbody tr th:only-of-type {\n",
       "        vertical-align: middle;\n",
       "    }\n",
       "\n",
       "    .dataframe tbody tr th {\n",
       "        vertical-align: top;\n",
       "    }\n",
       "\n",
       "    .dataframe thead th {\n",
       "        text-align: right;\n",
       "    }\n",
       "</style>\n",
       "<table border=\"1\" class=\"dataframe\">\n",
       "  <thead>\n",
       "    <tr style=\"text-align: right;\">\n",
       "      <th></th>\n",
       "      <th>PassengerId</th>\n",
       "      <th>Survived</th>\n",
       "      <th>Pclass</th>\n",
       "      <th>Name</th>\n",
       "      <th>Sex</th>\n",
       "      <th>Age</th>\n",
       "      <th>SibSp</th>\n",
       "      <th>Parch</th>\n",
       "      <th>Ticket</th>\n",
       "      <th>Fare</th>\n",
       "      <th>Cabin</th>\n",
       "      <th>Embarked</th>\n",
       "    </tr>\n",
       "  </thead>\n",
       "  <tbody>\n",
       "    <tr>\n",
       "      <th>0</th>\n",
       "      <td>1</td>\n",
       "      <td>0</td>\n",
       "      <td>3</td>\n",
       "      <td>Braund, Mr. Owen Harris</td>\n",
       "      <td>male</td>\n",
       "      <td>22.0</td>\n",
       "      <td>1</td>\n",
       "      <td>0</td>\n",
       "      <td>A/5 21171</td>\n",
       "      <td>7.2500</td>\n",
       "      <td>NaN</td>\n",
       "      <td>S</td>\n",
       "    </tr>\n",
       "    <tr>\n",
       "      <th>1</th>\n",
       "      <td>2</td>\n",
       "      <td>1</td>\n",
       "      <td>1</td>\n",
       "      <td>Cumings, Mrs. John Bradley (Florence Briggs Th...</td>\n",
       "      <td>female</td>\n",
       "      <td>38.0</td>\n",
       "      <td>1</td>\n",
       "      <td>0</td>\n",
       "      <td>PC 17599</td>\n",
       "      <td>71.2833</td>\n",
       "      <td>C85</td>\n",
       "      <td>C</td>\n",
       "    </tr>\n",
       "    <tr>\n",
       "      <th>2</th>\n",
       "      <td>3</td>\n",
       "      <td>1</td>\n",
       "      <td>3</td>\n",
       "      <td>Heikkinen, Miss. Laina</td>\n",
       "      <td>female</td>\n",
       "      <td>26.0</td>\n",
       "      <td>0</td>\n",
       "      <td>0</td>\n",
       "      <td>STON/O2. 3101282</td>\n",
       "      <td>7.9250</td>\n",
       "      <td>NaN</td>\n",
       "      <td>S</td>\n",
       "    </tr>\n",
       "    <tr>\n",
       "      <th>3</th>\n",
       "      <td>4</td>\n",
       "      <td>1</td>\n",
       "      <td>1</td>\n",
       "      <td>Futrelle, Mrs. Jacques Heath (Lily May Peel)</td>\n",
       "      <td>female</td>\n",
       "      <td>35.0</td>\n",
       "      <td>1</td>\n",
       "      <td>0</td>\n",
       "      <td>113803</td>\n",
       "      <td>53.1000</td>\n",
       "      <td>C123</td>\n",
       "      <td>S</td>\n",
       "    </tr>\n",
       "    <tr>\n",
       "      <th>4</th>\n",
       "      <td>5</td>\n",
       "      <td>0</td>\n",
       "      <td>3</td>\n",
       "      <td>Allen, Mr. William Henry</td>\n",
       "      <td>male</td>\n",
       "      <td>35.0</td>\n",
       "      <td>0</td>\n",
       "      <td>0</td>\n",
       "      <td>373450</td>\n",
       "      <td>8.0500</td>\n",
       "      <td>NaN</td>\n",
       "      <td>S</td>\n",
       "    </tr>\n",
       "  </tbody>\n",
       "</table>\n",
       "</div>"
      ],
      "text/plain": [
       "   PassengerId  Survived  Pclass  \\\n",
       "0            1         0       3   \n",
       "1            2         1       1   \n",
       "2            3         1       3   \n",
       "3            4         1       1   \n",
       "4            5         0       3   \n",
       "\n",
       "                                                Name     Sex   Age  SibSp  \\\n",
       "0                            Braund, Mr. Owen Harris    male  22.0      1   \n",
       "1  Cumings, Mrs. John Bradley (Florence Briggs Th...  female  38.0      1   \n",
       "2                             Heikkinen, Miss. Laina  female  26.0      0   \n",
       "3       Futrelle, Mrs. Jacques Heath (Lily May Peel)  female  35.0      1   \n",
       "4                           Allen, Mr. William Henry    male  35.0      0   \n",
       "\n",
       "   Parch            Ticket     Fare Cabin Embarked  \n",
       "0      0         A/5 21171   7.2500   NaN        S  \n",
       "1      0          PC 17599  71.2833   C85        C  \n",
       "2      0  STON/O2. 3101282   7.9250   NaN        S  \n",
       "3      0            113803  53.1000  C123        S  \n",
       "4      0            373450   8.0500   NaN        S  "
      ]
     },
     "execution_count": 3,
     "metadata": {},
     "output_type": "execute_result"
    }
   ],
   "source": [
    "train_data.head()"
   ]
  },
  {
   "cell_type": "code",
   "execution_count": 4,
   "metadata": {},
   "outputs": [
    {
     "data": {
      "text/html": [
       "<div>\n",
       "<style scoped>\n",
       "    .dataframe tbody tr th:only-of-type {\n",
       "        vertical-align: middle;\n",
       "    }\n",
       "\n",
       "    .dataframe tbody tr th {\n",
       "        vertical-align: top;\n",
       "    }\n",
       "\n",
       "    .dataframe thead th {\n",
       "        text-align: right;\n",
       "    }\n",
       "</style>\n",
       "<table border=\"1\" class=\"dataframe\">\n",
       "  <thead>\n",
       "    <tr style=\"text-align: right;\">\n",
       "      <th></th>\n",
       "      <th>PassengerId</th>\n",
       "      <th>Pclass</th>\n",
       "      <th>Name</th>\n",
       "      <th>Sex</th>\n",
       "      <th>Age</th>\n",
       "      <th>SibSp</th>\n",
       "      <th>Parch</th>\n",
       "      <th>Ticket</th>\n",
       "      <th>Fare</th>\n",
       "      <th>Cabin</th>\n",
       "      <th>Embarked</th>\n",
       "    </tr>\n",
       "  </thead>\n",
       "  <tbody>\n",
       "    <tr>\n",
       "      <th>0</th>\n",
       "      <td>892</td>\n",
       "      <td>3</td>\n",
       "      <td>Kelly, Mr. James</td>\n",
       "      <td>male</td>\n",
       "      <td>34.5</td>\n",
       "      <td>0</td>\n",
       "      <td>0</td>\n",
       "      <td>330911</td>\n",
       "      <td>7.8292</td>\n",
       "      <td>NaN</td>\n",
       "      <td>Q</td>\n",
       "    </tr>\n",
       "    <tr>\n",
       "      <th>1</th>\n",
       "      <td>893</td>\n",
       "      <td>3</td>\n",
       "      <td>Wilkes, Mrs. James (Ellen Needs)</td>\n",
       "      <td>female</td>\n",
       "      <td>47.0</td>\n",
       "      <td>1</td>\n",
       "      <td>0</td>\n",
       "      <td>363272</td>\n",
       "      <td>7.0000</td>\n",
       "      <td>NaN</td>\n",
       "      <td>S</td>\n",
       "    </tr>\n",
       "    <tr>\n",
       "      <th>2</th>\n",
       "      <td>894</td>\n",
       "      <td>2</td>\n",
       "      <td>Myles, Mr. Thomas Francis</td>\n",
       "      <td>male</td>\n",
       "      <td>62.0</td>\n",
       "      <td>0</td>\n",
       "      <td>0</td>\n",
       "      <td>240276</td>\n",
       "      <td>9.6875</td>\n",
       "      <td>NaN</td>\n",
       "      <td>Q</td>\n",
       "    </tr>\n",
       "    <tr>\n",
       "      <th>3</th>\n",
       "      <td>895</td>\n",
       "      <td>3</td>\n",
       "      <td>Wirz, Mr. Albert</td>\n",
       "      <td>male</td>\n",
       "      <td>27.0</td>\n",
       "      <td>0</td>\n",
       "      <td>0</td>\n",
       "      <td>315154</td>\n",
       "      <td>8.6625</td>\n",
       "      <td>NaN</td>\n",
       "      <td>S</td>\n",
       "    </tr>\n",
       "    <tr>\n",
       "      <th>4</th>\n",
       "      <td>896</td>\n",
       "      <td>3</td>\n",
       "      <td>Hirvonen, Mrs. Alexander (Helga E Lindqvist)</td>\n",
       "      <td>female</td>\n",
       "      <td>22.0</td>\n",
       "      <td>1</td>\n",
       "      <td>1</td>\n",
       "      <td>3101298</td>\n",
       "      <td>12.2875</td>\n",
       "      <td>NaN</td>\n",
       "      <td>S</td>\n",
       "    </tr>\n",
       "  </tbody>\n",
       "</table>\n",
       "</div>"
      ],
      "text/plain": [
       "   PassengerId  Pclass                                          Name     Sex  \\\n",
       "0          892       3                              Kelly, Mr. James    male   \n",
       "1          893       3              Wilkes, Mrs. James (Ellen Needs)  female   \n",
       "2          894       2                     Myles, Mr. Thomas Francis    male   \n",
       "3          895       3                              Wirz, Mr. Albert    male   \n",
       "4          896       3  Hirvonen, Mrs. Alexander (Helga E Lindqvist)  female   \n",
       "\n",
       "    Age  SibSp  Parch   Ticket     Fare Cabin Embarked  \n",
       "0  34.5      0      0   330911   7.8292   NaN        Q  \n",
       "1  47.0      1      0   363272   7.0000   NaN        S  \n",
       "2  62.0      0      0   240276   9.6875   NaN        Q  \n",
       "3  27.0      0      0   315154   8.6625   NaN        S  \n",
       "4  22.0      1      1  3101298  12.2875   NaN        S  "
      ]
     },
     "execution_count": 4,
     "metadata": {},
     "output_type": "execute_result"
    }
   ],
   "source": [
    "test_data.head()"
   ]
  },
  {
   "cell_type": "markdown",
   "metadata": {},
   "source": [
    "## Feature Engineering"
   ]
  },
  {
   "cell_type": "code",
   "execution_count": 5,
   "metadata": {},
   "outputs": [
    {
     "name": "stdout",
     "output_type": "stream",
     "text": [
      "['Age', 'Cabin', 'Embarked']\n",
      "['Age', 'Fare', 'Cabin']\n"
     ]
    }
   ],
   "source": [
    "# columns with missing values\n",
    "print(train_data.columns[train_data.isnull().any()].tolist())\n",
    "print(test_data.columns[test_data.isnull().any()].tolist())"
   ]
  },
  {
   "cell_type": "markdown",
   "metadata": {},
   "source": [
    "#### Pclass"
   ]
  },
  {
   "cell_type": "code",
   "execution_count": 6,
   "metadata": {},
   "outputs": [
    {
     "data": {
      "text/plain": [
       "3    491\n",
       "1    216\n",
       "2    184\n",
       "Name: Pclass, dtype: int64"
      ]
     },
     "execution_count": 6,
     "metadata": {},
     "output_type": "execute_result"
    }
   ],
   "source": [
    "train_data.Pclass.value_counts()"
   ]
  },
  {
   "cell_type": "markdown",
   "metadata": {},
   "source": [
    "#### Sex"
   ]
  },
  {
   "cell_type": "code",
   "execution_count": 7,
   "metadata": {},
   "outputs": [
    {
     "data": {
      "text/plain": [
       "male      577\n",
       "female    314\n",
       "Name: Sex, dtype: int64"
      ]
     },
     "execution_count": 7,
     "metadata": {},
     "output_type": "execute_result"
    }
   ],
   "source": [
    "train_data.Sex.value_counts()"
   ]
  },
  {
   "cell_type": "code",
   "execution_count": 8,
   "metadata": {},
   "outputs": [],
   "source": [
    "for dataset in [train_data, test_data]:\n",
    "    dataset['Sex'] = dataset.Sex.map({'male':0, 'female':1}).astype(int)"
   ]
  },
  {
   "cell_type": "markdown",
   "metadata": {},
   "source": [
    "#### Age - discretized"
   ]
  },
  {
   "cell_type": "code",
   "execution_count": 9,
   "metadata": {},
   "outputs": [
    {
     "data": {
      "text/plain": [
       "<matplotlib.axes._subplots.AxesSubplot at 0x1203759e8>"
      ]
     },
     "execution_count": 9,
     "metadata": {},
     "output_type": "execute_result"
    },
    {
     "data": {
      "image/png": "[encoded data removed]",
      "text/plain": [
       "<Figure size 432x288 with 1 Axes>"
      ]
     },
     "metadata": {
      "needs_background": "light"
     },
     "output_type": "display_data"
    }
   ],
   "source": [
    "train_data.Age.hist()"
   ]
  },
  {
   "cell_type": "code",
   "execution_count": 10,
   "metadata": {},
   "outputs": [
    {
     "data": {
      "text/plain": [
       "False    714\n",
       "True     177\n",
       "Name: Age, dtype: int64"
      ]
     },
     "execution_count": 10,
     "metadata": {},
     "output_type": "execute_result"
    }
   ],
   "source": [
    "train_data.Age.isnull().value_counts()"
   ]
  },
  {
   "cell_type": "code",
   "execution_count": 11,
   "metadata": {},
   "outputs": [],
   "source": [
    "for dataset in [train_data, test_data]:\n",
    "    # fill in missing value\n",
    "    age_avg = dataset.Age.mean()\n",
    "    age_std = dataset.Age.std()\n",
    "    \n",
    "    dataset.loc[np.isnan(dataset['Age']), 'Age'] = np.random.randint(age_avg - age_std, \n",
    "                                                                     age_avg + age_std, \n",
    "                                                                     size=dataset['Age'].isnull().sum())\n",
    "    dataset['Age'] = dataset['Age'].astype(int)\n",
    "    dataset.loc[ dataset['Age'] <= 16, 'Age'] = 0\n",
    "    dataset.loc[(dataset['Age'] > 16) & (dataset['Age'] <= 32), 'Age'] = 1\n",
    "    dataset.loc[(dataset['Age'] > 32) & (dataset['Age'] <= 48), 'Age'] = 2\n",
    "    dataset.loc[(dataset['Age'] > 48) & (dataset['Age'] <= 64), 'Age'] = 3\n",
    "    dataset.loc[ dataset['Age'] > 64, 'Age'] = 4"
   ]
  },
  {
   "cell_type": "markdown",
   "metadata": {},
   "source": [
    "#### SibSp&Parch - Combined and Discretized"
   ]
  },
  {
   "cell_type": "code",
   "execution_count": 12,
   "metadata": {},
   "outputs": [
    {
     "data": {
      "text/plain": [
       "0    608\n",
       "1    209\n",
       "2     28\n",
       "4     18\n",
       "3     16\n",
       "8      7\n",
       "5      5\n",
       "Name: SibSp, dtype: int64"
      ]
     },
     "execution_count": 12,
     "metadata": {},
     "output_type": "execute_result"
    }
   ],
   "source": [
    "train_data.SibSp.value_counts()"
   ]
  },
  {
   "cell_type": "code",
   "execution_count": 13,
   "metadata": {},
   "outputs": [
    {
     "data": {
      "text/plain": [
       "0    678\n",
       "1    118\n",
       "2     80\n",
       "5      5\n",
       "3      5\n",
       "4      4\n",
       "6      1\n",
       "Name: Parch, dtype: int64"
      ]
     },
     "execution_count": 13,
     "metadata": {},
     "output_type": "execute_result"
    }
   ],
   "source": [
    "train_data.Parch.value_counts()"
   ]
  },
  {
   "cell_type": "code",
   "execution_count": 14,
   "metadata": {},
   "outputs": [],
   "source": [
    "for dataset in [train_data, test_data]:\n",
    "    dataset['FamilySize'] = dataset['SibSp'] + dataset['Parch']"
   ]
  },
  {
   "cell_type": "markdown",
   "metadata": {},
   "source": [
    "#### Cabin - binarilized"
   ]
  },
  {
   "cell_type": "code",
   "execution_count": 15,
   "metadata": {},
   "outputs": [
    {
     "data": {
      "text/plain": [
       "B96 B98        4\n",
       "G6             4\n",
       "C23 C25 C27    4\n",
       "D              3\n",
       "F2             3\n",
       "F33            3\n",
       "C22 C26        3\n",
       "E101           3\n",
       "C52            2\n",
       "B77            2\n",
       "C65            2\n",
       "B28            2\n",
       "B35            2\n",
       "C68            2\n",
       "E33            2\n",
       "E67            2\n",
       "D35            2\n",
       "B22            2\n",
       "C93            2\n",
       "E8             2\n",
       "C83            2\n",
       "F4             2\n",
       "C123           2\n",
       "B5             2\n",
       "E44            2\n",
       "C78            2\n",
       "D20            2\n",
       "B58 B60        2\n",
       "B51 B53 B55    2\n",
       "C92            2\n",
       "              ..\n",
       "A19            1\n",
       "D50            1\n",
       "C90            1\n",
       "A14            1\n",
       "C91            1\n",
       "E63            1\n",
       "B42            1\n",
       "C47            1\n",
       "T              1\n",
       "F G63          1\n",
       "E58            1\n",
       "B37            1\n",
       "D6             1\n",
       "C99            1\n",
       "B69            1\n",
       "E77            1\n",
       "D48            1\n",
       "A20            1\n",
       "B82 B84        1\n",
       "E17            1\n",
       "E50            1\n",
       "A34            1\n",
       "C106           1\n",
       "C110           1\n",
       "C70            1\n",
       "C82            1\n",
       "D21            1\n",
       "D45            1\n",
       "A36            1\n",
       "A26            1\n",
       "Name: Cabin, Length: 147, dtype: int64"
      ]
     },
     "execution_count": 15,
     "metadata": {},
     "output_type": "execute_result"
    }
   ],
   "source": [
    "train_data.Cabin.value_counts()"
   ]
  },
  {
   "cell_type": "code",
   "execution_count": 16,
   "metadata": {},
   "outputs": [],
   "source": [
    "for dataset in [train_data, test_data]:\n",
    "    dataset['Has_Cabin'] = dataset['Cabin'].isna().tolist()"
   ]
  },
  {
   "cell_type": "markdown",
   "metadata": {},
   "source": [
    "#### Fare - Discretized"
   ]
  },
  {
   "cell_type": "code",
   "execution_count": 17,
   "metadata": {},
   "outputs": [
    {
     "data": {
      "text/plain": [
       "<matplotlib.axes._subplots.AxesSubplot at 0x10d3b54a8>"
      ]
     },
     "execution_count": 17,
     "metadata": {},
     "output_type": "execute_result"
    },
    {
     "data": {
      "image/png": "[encoded data removed]",
      "text/plain": [
       "<Figure size 432x288 with 1 Axes>"
      ]
     },
     "metadata": {
      "needs_background": "light"
     },
     "output_type": "display_data"
    }
   ],
   "source": [
    "train_data.Fare.hist()"
   ]
  },
  {
   "cell_type": "code",
   "execution_count": 18,
   "metadata": {},
   "outputs": [],
   "source": [
    "for dataset in [train_data, test_data]:\n",
    "    dataset.loc[dataset['Fare'] <= 50, 'Fare'] = 0\n",
    "    dataset.loc[dataset['Fare'] > 50, 'Fare'] = 1\n",
    "    dataset.loc[np.isnan(dataset['Fare']), 'Fare'] = 0\n",
    "    dataset['Fare'] = dataset['Fare'].astype(int)"
   ]
  },
  {
   "cell_type": "markdown",
   "metadata": {},
   "source": [
    "#### Drop PassengerId, Name, Ticket, Cabin, SibSp, Parch, Embarked"
   ]
  },
  {
   "cell_type": "code",
   "execution_count": 19,
   "metadata": {},
   "outputs": [],
   "source": [
    "drop_features = ['PassengerId', 'Name', 'Ticket', 'Cabin', 'SibSp', 'Parch', 'Embarked']\n",
    "for dataset in [train_data, test_data]:\n",
    "    dataset.drop(drop_features, axis=1, inplace=True)"
   ]
  },
  {
   "cell_type": "code",
   "execution_count": 20,
   "metadata": {},
   "outputs": [
    {
     "data": {
      "text/html": [
       "<div>\n",
       "<style scoped>\n",
       "    .dataframe tbody tr th:only-of-type {\n",
       "        vertical-align: middle;\n",
       "    }\n",
       "\n",
       "    .dataframe tbody tr th {\n",
       "        vertical-align: top;\n",
       "    }\n",
       "\n",
       "    .dataframe thead th {\n",
       "        text-align: right;\n",
       "    }\n",
       "</style>\n",
       "<table border=\"1\" class=\"dataframe\">\n",
       "  <thead>\n",
       "    <tr style=\"text-align: right;\">\n",
       "      <th></th>\n",
       "      <th>Survived</th>\n",
       "      <th>Pclass</th>\n",
       "      <th>Sex</th>\n",
       "      <th>Age</th>\n",
       "      <th>Fare</th>\n",
       "      <th>FamilySize</th>\n",
       "      <th>Has_Cabin</th>\n",
       "    </tr>\n",
       "  </thead>\n",
       "  <tbody>\n",
       "    <tr>\n",
       "      <th>0</th>\n",
       "      <td>0</td>\n",
       "      <td>3</td>\n",
       "      <td>0</td>\n",
       "      <td>1</td>\n",
       "      <td>0</td>\n",
       "      <td>1</td>\n",
       "      <td>True</td>\n",
       "    </tr>\n",
       "    <tr>\n",
       "      <th>1</th>\n",
       "      <td>1</td>\n",
       "      <td>1</td>\n",
       "      <td>1</td>\n",
       "      <td>2</td>\n",
       "      <td>1</td>\n",
       "      <td>1</td>\n",
       "      <td>False</td>\n",
       "    </tr>\n",
       "    <tr>\n",
       "      <th>2</th>\n",
       "      <td>1</td>\n",
       "      <td>3</td>\n",
       "      <td>1</td>\n",
       "      <td>1</td>\n",
       "      <td>0</td>\n",
       "      <td>0</td>\n",
       "      <td>True</td>\n",
       "    </tr>\n",
       "    <tr>\n",
       "      <th>3</th>\n",
       "      <td>1</td>\n",
       "      <td>1</td>\n",
       "      <td>1</td>\n",
       "      <td>2</td>\n",
       "      <td>1</td>\n",
       "      <td>1</td>\n",
       "      <td>False</td>\n",
       "    </tr>\n",
       "    <tr>\n",
       "      <th>4</th>\n",
       "      <td>0</td>\n",
       "      <td>3</td>\n",
       "      <td>0</td>\n",
       "      <td>2</td>\n",
       "      <td>0</td>\n",
       "      <td>0</td>\n",
       "      <td>True</td>\n",
       "    </tr>\n",
       "  </tbody>\n",
       "</table>\n",
       "</div>"
      ],
      "text/plain": [
       "   Survived  Pclass  Sex  Age  Fare  FamilySize  Has_Cabin\n",
       "0         0       3    0    1     0           1       True\n",
       "1         1       1    1    2     1           1      False\n",
       "2         1       3    1    1     0           0       True\n",
       "3         1       1    1    2     1           1      False\n",
       "4         0       3    0    2     0           0       True"
      ]
     },
     "execution_count": 20,
     "metadata": {},
     "output_type": "execute_result"
    }
   ],
   "source": [
    "train_data.head()"
   ]
  },
  {
   "cell_type": "code",
   "execution_count": 21,
   "metadata": {},
   "outputs": [
    {
     "data": {
      "text/html": [
       "<div>\n",
       "<style scoped>\n",
       "    .dataframe tbody tr th:only-of-type {\n",
       "        vertical-align: middle;\n",
       "    }\n",
       "\n",
       "    .dataframe tbody tr th {\n",
       "        vertical-align: top;\n",
       "    }\n",
       "\n",
       "    .dataframe thead th {\n",
       "        text-align: right;\n",
       "    }\n",
       "</style>\n",
       "<table border=\"1\" class=\"dataframe\">\n",
       "  <thead>\n",
       "    <tr style=\"text-align: right;\">\n",
       "      <th></th>\n",
       "      <th>Pclass</th>\n",
       "      <th>Sex</th>\n",
       "      <th>Age</th>\n",
       "      <th>Fare</th>\n",
       "      <th>FamilySize</th>\n",
       "      <th>Has_Cabin</th>\n",
       "    </tr>\n",
       "  </thead>\n",
       "  <tbody>\n",
       "    <tr>\n",
       "      <th>0</th>\n",
       "      <td>3</td>\n",
       "      <td>0</td>\n",
       "      <td>2</td>\n",
       "      <td>0</td>\n",
       "      <td>0</td>\n",
       "      <td>True</td>\n",
       "    </tr>\n",
       "    <tr>\n",
       "      <th>1</th>\n",
       "      <td>3</td>\n",
       "      <td>1</td>\n",
       "      <td>2</td>\n",
       "      <td>0</td>\n",
       "      <td>1</td>\n",
       "      <td>True</td>\n",
       "    </tr>\n",
       "    <tr>\n",
       "      <th>2</th>\n",
       "      <td>2</td>\n",
       "      <td>0</td>\n",
       "      <td>3</td>\n",
       "      <td>0</td>\n",
       "      <td>0</td>\n",
       "      <td>True</td>\n",
       "    </tr>\n",
       "    <tr>\n",
       "      <th>3</th>\n",
       "      <td>3</td>\n",
       "      <td>0</td>\n",
       "      <td>1</td>\n",
       "      <td>0</td>\n",
       "      <td>0</td>\n",
       "      <td>True</td>\n",
       "    </tr>\n",
       "    <tr>\n",
       "      <th>4</th>\n",
       "      <td>3</td>\n",
       "      <td>1</td>\n",
       "      <td>1</td>\n",
       "      <td>0</td>\n",
       "      <td>2</td>\n",
       "      <td>True</td>\n",
       "    </tr>\n",
       "  </tbody>\n",
       "</table>\n",
       "</div>"
      ],
      "text/plain": [
       "   Pclass  Sex  Age  Fare  FamilySize  Has_Cabin\n",
       "0       3    0    2     0           0       True\n",
       "1       3    1    2     0           1       True\n",
       "2       2    0    3     0           0       True\n",
       "3       3    0    1     0           0       True\n",
       "4       3    1    1     0           2       True"
      ]
     },
     "execution_count": 21,
     "metadata": {},
     "output_type": "execute_result"
    }
   ],
   "source": [
    "test_data.head()"
   ]
  },
  {
   "cell_type": "markdown",
   "metadata": {},
   "source": [
    "## Decision Tree Classifier"
   ]
  },
  {
   "cell_type": "code",
   "execution_count": 22,
   "metadata": {},
   "outputs": [],
   "source": [
    "from sklearn import tree\n",
    "from sklearn.metrics import accuracy_score\n",
    "from sklearn.model_selection import KFold"
   ]
  },
  {
   "cell_type": "code",
   "execution_count": 23,
   "metadata": {},
   "outputs": [
    {
     "data": {
      "text/plain": [
       "DecisionTreeClassifier(class_weight=None, criterion='entropy', max_depth=3,\n",
       "            max_features=None, max_leaf_nodes=None,\n",
       "            min_impurity_decrease=0.0, min_impurity_split=None,\n",
       "            min_samples_leaf=1, min_samples_split=2,\n",
       "            min_weight_fraction_leaf=0.0, presort=False, random_state=None,\n",
       "            splitter='best')"
      ]
     },
     "execution_count": 23,
     "metadata": {},
     "output_type": "execute_result"
    }
   ],
   "source": [
    "train_features = train_data.drop(['Survived'], axis=1).values\n",
    "train_labels = train_data['Survived']\n",
    "\n",
    "dt_clf = tree.DecisionTreeClassifier(criterion='entropy', max_depth=3)\n",
    "dt_clf.fit(train_features, train_labels)"
   ]
  },
  {
   "cell_type": "markdown",
   "metadata": {},
   "source": [
    "## Tree visualization"
   ]
  },
  {
   "cell_type": "code",
   "execution_count": 24,
   "metadata": {},
   "outputs": [],
   "source": [
    "import graphviz"
   ]
  },
  {
   "cell_type": "code",
   "execution_count": 25,
   "metadata": {},
   "outputs": [],
   "source": [
    "dot_data = tree.export_graphviz(dt_clf, out_file=None,\n",
    "                                feature_names=train_data.drop(['Survived'], axis=1).columns.tolist(),\n",
    "                                class_names=['Survived', 'Died'],\n",
    "                                filled=True, rounded=True)\n",
    "graph = graphviz.Source(dot_data)\n"
   ]
  },
  {
   "cell_type": "code",
   "execution_count": 27,
   "metadata": {},
   "outputs": [
    {
     "data": {
      "image/svg+xml": [
       "<?xml version=\"1.0\" encoding=\"UTF-8\" standalone=\"no\"?>\n",
       "<!DOCTYPE svg PUBLIC \"-//W3C//DTD SVG 1.1//EN\"\n",
       " \"http://www.w3.org/Graphics/SVG/1.1/DTD/svg11.dtd\">\n",
       "<!-- Generated by graphviz version 2.40.1 (20161225.0304)\n",
       " -->\n",
       "<!-- Title: Tree Pages: 1 -->\n",
       "<svg width=\"1053pt\" height=\"433pt\"\n",
       " viewBox=\"0.00 0.00 1053.00 433.00\" xmlns=\"http://www.w3.org/2000/svg\" xmlns:xlink=\"http://www.w3.org/1999/xlink\">\n",
       "<g id=\"graph0\" class=\"graph\" transform=\"scale(1 1) rotate(0) translate(4 429)\">\n",
       "<title>Tree</title>\n",
       "<polygon fill=\"#ffffff\" stroke=\"transparent\" points=\"-4,4 -4,-429 1049,-429 1049,4 -4,4\"/>\n",
       "<!-- 0 -->\n",
       "<g id=\"node1\" class=\"node\">\n",
       "<title>0</title>\n",
       "<path fill=\"#e58139\" fill-opacity=\"0.376471\" stroke=\"#000000\" d=\"M566.5,-425C566.5,-425 462.5,-425 462.5,-425 456.5,-425 450.5,-419 450.5,-413 450.5,-413 450.5,-354 450.5,-354 450.5,-348 456.5,-342 462.5,-342 462.5,-342 566.5,-342 566.5,-342 572.5,-342 578.5,-348 578.5,-354 578.5,-354 578.5,-413 578.5,-413 578.5,-419 572.5,-425 566.5,-425\"/>\n",
       "<text text-anchor=\"middle\" x=\"514.5\" y=\"-409.8\" font-family=\"Helvetica,sans-Serif\" font-size=\"14.00\" fill=\"#000000\">Sex &lt;= 0.5</text>\n",
       "<text text-anchor=\"middle\" x=\"514.5\" y=\"-394.8\" font-family=\"Helvetica,sans-Serif\" font-size=\"14.00\" fill=\"#000000\">entropy = 0.961</text>\n",
       "<text text-anchor=\"middle\" x=\"514.5\" y=\"-379.8\" font-family=\"Helvetica,sans-Serif\" font-size=\"14.00\" fill=\"#000000\">samples = 891</text>\n",
       "<text text-anchor=\"middle\" x=\"514.5\" y=\"-364.8\" font-family=\"Helvetica,sans-Serif\" font-size=\"14.00\" fill=\"#000000\">value = [549, 342]</text>\n",
       "<text text-anchor=\"middle\" x=\"514.5\" y=\"-349.8\" font-family=\"Helvetica,sans-Serif\" font-size=\"14.00\" fill=\"#000000\">class = Survived</text>\n",
       "</g>\n",
       "<!-- 1 -->\n",
       "<g id=\"node2\" class=\"node\">\n",
       "<title>1</title>\n",
       "<path fill=\"#e58139\" fill-opacity=\"0.768627\" stroke=\"#000000\" d=\"M431,-306C431,-306 326,-306 326,-306 320,-306 314,-300 314,-294 314,-294 314,-235 314,-235 314,-229 320,-223 326,-223 326,-223 431,-223 431,-223 437,-223 443,-229 443,-235 443,-235 443,-294 443,-294 443,-300 437,-306 431,-306\"/>\n",
       "<text text-anchor=\"middle\" x=\"378.5\" y=\"-290.8\" font-family=\"Helvetica,sans-Serif\" font-size=\"14.00\" fill=\"#000000\">Has_Cabin &lt;= 0.5</text>\n",
       "<text text-anchor=\"middle\" x=\"378.5\" y=\"-275.8\" font-family=\"Helvetica,sans-Serif\" font-size=\"14.00\" fill=\"#000000\">entropy = 0.699</text>\n",
       "<text text-anchor=\"middle\" x=\"378.5\" y=\"-260.8\" font-family=\"Helvetica,sans-Serif\" font-size=\"14.00\" fill=\"#000000\">samples = 577</text>\n",
       "<text text-anchor=\"middle\" x=\"378.5\" y=\"-245.8\" font-family=\"Helvetica,sans-Serif\" font-size=\"14.00\" fill=\"#000000\">value = [468, 109]</text>\n",
       "<text text-anchor=\"middle\" x=\"378.5\" y=\"-230.8\" font-family=\"Helvetica,sans-Serif\" font-size=\"14.00\" fill=\"#000000\">class = Survived</text>\n",
       "</g>\n",
       "<!-- 0&#45;&gt;1 -->\n",
       "<g id=\"edge1\" class=\"edge\">\n",
       "<title>0&#45;&gt;1</title>\n",
       "<path fill=\"none\" stroke=\"#000000\" d=\"M466.9338,-341.8796C456.3321,-332.6031 444.9998,-322.6874 434.1067,-313.1559\"/>\n",
       "<polygon fill=\"#000000\" stroke=\"#000000\" points=\"436.0998,-310.2491 426.2692,-306.2981 431.4902,-315.5172 436.0998,-310.2491\"/>\n",
       "<text text-anchor=\"middle\" x=\"427.9322\" y=\"-327.5427\" font-family=\"Helvetica,sans-Serif\" font-size=\"14.00\" fill=\"#000000\">True</text>\n",
       "</g>\n",
       "<!-- 8 -->\n",
       "<g id=\"node9\" class=\"node\">\n",
       "<title>8</title>\n",
       "<path fill=\"#399de5\" fill-opacity=\"0.650980\" stroke=\"#000000\" d=\"M696.5,-306C696.5,-306 600.5,-306 600.5,-306 594.5,-306 588.5,-300 588.5,-294 588.5,-294 588.5,-235 588.5,-235 588.5,-229 594.5,-223 600.5,-223 600.5,-223 696.5,-223 696.5,-223 702.5,-223 708.5,-229 708.5,-235 708.5,-235 708.5,-294 708.5,-294 708.5,-300 702.5,-306 696.5,-306\"/>\n",
       "<text text-anchor=\"middle\" x=\"648.5\" y=\"-290.8\" font-family=\"Helvetica,sans-Serif\" font-size=\"14.00\" fill=\"#000000\">Pclass &lt;= 2.5</text>\n",
       "<text text-anchor=\"middle\" x=\"648.5\" y=\"-275.8\" font-family=\"Helvetica,sans-Serif\" font-size=\"14.00\" fill=\"#000000\">entropy = 0.824</text>\n",
       "<text text-anchor=\"middle\" x=\"648.5\" y=\"-260.8\" font-family=\"Helvetica,sans-Serif\" font-size=\"14.00\" fill=\"#000000\">samples = 314</text>\n",
       "<text text-anchor=\"middle\" x=\"648.5\" y=\"-245.8\" font-family=\"Helvetica,sans-Serif\" font-size=\"14.00\" fill=\"#000000\">value = [81, 233]</text>\n",
       "<text text-anchor=\"middle\" x=\"648.5\" y=\"-230.8\" font-family=\"Helvetica,sans-Serif\" font-size=\"14.00\" fill=\"#000000\">class = Died</text>\n",
       "</g>\n",
       "<!-- 0&#45;&gt;8 -->\n",
       "<g id=\"edge8\" class=\"edge\">\n",
       "<title>0&#45;&gt;8</title>\n",
       "<path fill=\"none\" stroke=\"#000000\" d=\"M561.3667,-341.8796C571.8125,-332.6031 582.9781,-322.6874 593.711,-313.1559\"/>\n",
       "<polygon fill=\"#000000\" stroke=\"#000000\" points=\"596.2801,-315.5553 601.4333,-306.2981 591.632,-310.3213 596.2801,-315.5553\"/>\n",
       "<text text-anchor=\"middle\" x=\"599.9536\" y=\"-327.5542\" font-family=\"Helvetica,sans-Serif\" font-size=\"14.00\" fill=\"#000000\">False</text>\n",
       "</g>\n",
       "<!-- 2 -->\n",
       "<g id=\"node3\" class=\"node\">\n",
       "<title>2</title>\n",
       "<path fill=\"#e58139\" fill-opacity=\"0.274510\" stroke=\"#000000\" d=\"M224,-187C224,-187 129,-187 129,-187 123,-187 117,-181 117,-175 117,-175 117,-116 117,-116 117,-110 123,-104 129,-104 129,-104 224,-104 224,-104 230,-104 236,-110 236,-116 236,-116 236,-175 236,-175 236,-181 230,-187 224,-187\"/>\n",
       "<text text-anchor=\"middle\" x=\"176.5\" y=\"-171.8\" font-family=\"Helvetica,sans-Serif\" font-size=\"14.00\" fill=\"#000000\">Age &lt;= 0.5</text>\n",
       "<text text-anchor=\"middle\" x=\"176.5\" y=\"-156.8\" font-family=\"Helvetica,sans-Serif\" font-size=\"14.00\" fill=\"#000000\">entropy = 0.982</text>\n",
       "<text text-anchor=\"middle\" x=\"176.5\" y=\"-141.8\" font-family=\"Helvetica,sans-Serif\" font-size=\"14.00\" fill=\"#000000\">samples = 107</text>\n",
       "<text text-anchor=\"middle\" x=\"176.5\" y=\"-126.8\" font-family=\"Helvetica,sans-Serif\" font-size=\"14.00\" fill=\"#000000\">value = [62, 45]</text>\n",
       "<text text-anchor=\"middle\" x=\"176.5\" y=\"-111.8\" font-family=\"Helvetica,sans-Serif\" font-size=\"14.00\" fill=\"#000000\">class = Survived</text>\n",
       "</g>\n",
       "<!-- 1&#45;&gt;2 -->\n",
       "<g id=\"edge2\" class=\"edge\">\n",
       "<title>1&#45;&gt;2</title>\n",
       "<path fill=\"none\" stroke=\"#000000\" d=\"M313.7524,-226.3566C291.7473,-213.3932 267.0951,-198.8704 244.8198,-185.7478\"/>\n",
       "<polygon fill=\"#000000\" stroke=\"#000000\" points=\"246.4791,-182.6632 236.0865,-180.6029 242.926,-188.6944 246.4791,-182.6632\"/>\n",
       "</g>\n",
       "<!-- 5 -->\n",
       "<g id=\"node6\" class=\"node\">\n",
       "<title>5</title>\n",
       "<path fill=\"#e58139\" fill-opacity=\"0.843137\" stroke=\"#000000\" d=\"M426.5,-187C426.5,-187 330.5,-187 330.5,-187 324.5,-187 318.5,-181 318.5,-175 318.5,-175 318.5,-116 318.5,-116 318.5,-110 324.5,-104 330.5,-104 330.5,-104 426.5,-104 426.5,-104 432.5,-104 438.5,-110 438.5,-116 438.5,-116 438.5,-175 438.5,-175 438.5,-181 432.5,-187 426.5,-187\"/>\n",
       "<text text-anchor=\"middle\" x=\"378.5\" y=\"-171.8\" font-family=\"Helvetica,sans-Serif\" font-size=\"14.00\" fill=\"#000000\">Age &lt;= 0.5</text>\n",
       "<text text-anchor=\"middle\" x=\"378.5\" y=\"-156.8\" font-family=\"Helvetica,sans-Serif\" font-size=\"14.00\" fill=\"#000000\">entropy = 0.574</text>\n",
       "<text text-anchor=\"middle\" x=\"378.5\" y=\"-141.8\" font-family=\"Helvetica,sans-Serif\" font-size=\"14.00\" fill=\"#000000\">samples = 470</text>\n",
       "<text text-anchor=\"middle\" x=\"378.5\" y=\"-126.8\" font-family=\"Helvetica,sans-Serif\" font-size=\"14.00\" fill=\"#000000\">value = [406, 64]</text>\n",
       "<text text-anchor=\"middle\" x=\"378.5\" y=\"-111.8\" font-family=\"Helvetica,sans-Serif\" font-size=\"14.00\" fill=\"#000000\">class = Survived</text>\n",
       "</g>\n",
       "<!-- 1&#45;&gt;5 -->\n",
       "<g id=\"edge5\" class=\"edge\">\n",
       "<title>1&#45;&gt;5</title>\n",
       "<path fill=\"none\" stroke=\"#000000\" d=\"M378.5,-222.8796C378.5,-214.6838 378.5,-205.9891 378.5,-197.5013\"/>\n",
       "<polygon fill=\"#000000\" stroke=\"#000000\" points=\"382.0001,-197.298 378.5,-187.2981 375.0001,-197.2981 382.0001,-197.298\"/>\n",
       "</g>\n",
       "<!-- 3 -->\n",
       "<g id=\"node4\" class=\"node\">\n",
       "<title>3</title>\n",
       "<path fill=\"#399de5\" stroke=\"#000000\" d=\"M87,-68C87,-68 12,-68 12,-68 6,-68 0,-62 0,-56 0,-56 0,-12 0,-12 0,-6 6,0 12,0 12,0 87,0 87,0 93,0 99,-6 99,-12 99,-12 99,-56 99,-56 99,-62 93,-68 87,-68\"/>\n",
       "<text text-anchor=\"middle\" x=\"49.5\" y=\"-52.8\" font-family=\"Helvetica,sans-Serif\" font-size=\"14.00\" fill=\"#000000\">entropy = 0.0</text>\n",
       "<text text-anchor=\"middle\" x=\"49.5\" y=\"-37.8\" font-family=\"Helvetica,sans-Serif\" font-size=\"14.00\" fill=\"#000000\">samples = 7</text>\n",
       "<text text-anchor=\"middle\" x=\"49.5\" y=\"-22.8\" font-family=\"Helvetica,sans-Serif\" font-size=\"14.00\" fill=\"#000000\">value = [0, 7]</text>\n",
       "<text text-anchor=\"middle\" x=\"49.5\" y=\"-7.8\" font-family=\"Helvetica,sans-Serif\" font-size=\"14.00\" fill=\"#000000\">class = Died</text>\n",
       "</g>\n",
       "<!-- 2&#45;&gt;3 -->\n",
       "<g id=\"edge3\" class=\"edge\">\n",
       "<title>2&#45;&gt;3</title>\n",
       "<path fill=\"none\" stroke=\"#000000\" d=\"M129.2099,-103.9815C118.4275,-94.5151 106.977,-84.462 96.2187,-75.0168\"/>\n",
       "<polygon fill=\"#000000\" stroke=\"#000000\" points=\"98.3507,-72.2311 88.5268,-68.2637 93.7324,-77.4915 98.3507,-72.2311\"/>\n",
       "</g>\n",
       "<!-- 4 -->\n",
       "<g id=\"node5\" class=\"node\">\n",
       "<title>4</title>\n",
       "<path fill=\"#e58139\" fill-opacity=\"0.388235\" stroke=\"#000000\" d=\"M224,-68C224,-68 129,-68 129,-68 123,-68 117,-62 117,-56 117,-56 117,-12 117,-12 117,-6 123,0 129,0 129,0 224,0 224,0 230,0 236,-6 236,-12 236,-12 236,-56 236,-56 236,-62 230,-68 224,-68\"/>\n",
       "<text text-anchor=\"middle\" x=\"176.5\" y=\"-52.8\" font-family=\"Helvetica,sans-Serif\" font-size=\"14.00\" fill=\"#000000\">entropy = 0.958</text>\n",
       "<text text-anchor=\"middle\" x=\"176.5\" y=\"-37.8\" font-family=\"Helvetica,sans-Serif\" font-size=\"14.00\" fill=\"#000000\">samples = 100</text>\n",
       "<text text-anchor=\"middle\" x=\"176.5\" y=\"-22.8\" font-family=\"Helvetica,sans-Serif\" font-size=\"14.00\" fill=\"#000000\">value = [62, 38]</text>\n",
       "<text text-anchor=\"middle\" x=\"176.5\" y=\"-7.8\" font-family=\"Helvetica,sans-Serif\" font-size=\"14.00\" fill=\"#000000\">class = Survived</text>\n",
       "</g>\n",
       "<!-- 2&#45;&gt;4 -->\n",
       "<g id=\"edge4\" class=\"edge\">\n",
       "<title>2&#45;&gt;4</title>\n",
       "<path fill=\"none\" stroke=\"#000000\" d=\"M176.5,-103.9815C176.5,-95.618 176.5,-86.7965 176.5,-78.3409\"/>\n",
       "<polygon fill=\"#000000\" stroke=\"#000000\" points=\"180.0001,-78.2636 176.5,-68.2637 173.0001,-78.2637 180.0001,-78.2636\"/>\n",
       "</g>\n",
       "<!-- 6 -->\n",
       "<g id=\"node7\" class=\"node\">\n",
       "<title>6</title>\n",
       "<path fill=\"#e58139\" fill-opacity=\"0.513725\" stroke=\"#000000\" d=\"M361,-68C361,-68 266,-68 266,-68 260,-68 254,-62 254,-56 254,-56 254,-12 254,-12 254,-6 260,0 266,0 266,0 361,0 361,0 367,0 373,-6 373,-12 373,-12 373,-56 373,-56 373,-62 367,-68 361,-68\"/>\n",
       "<text text-anchor=\"middle\" x=\"313.5\" y=\"-52.8\" font-family=\"Helvetica,sans-Serif\" font-size=\"14.00\" fill=\"#000000\">entropy = 0.911</text>\n",
       "<text text-anchor=\"middle\" x=\"313.5\" y=\"-37.8\" font-family=\"Helvetica,sans-Serif\" font-size=\"14.00\" fill=\"#000000\">samples = 49</text>\n",
       "<text text-anchor=\"middle\" x=\"313.5\" y=\"-22.8\" font-family=\"Helvetica,sans-Serif\" font-size=\"14.00\" fill=\"#000000\">value = [33, 16]</text>\n",
       "<text text-anchor=\"middle\" x=\"313.5\" y=\"-7.8\" font-family=\"Helvetica,sans-Serif\" font-size=\"14.00\" fill=\"#000000\">class = Survived</text>\n",
       "</g>\n",
       "<!-- 5&#45;&gt;6 -->\n",
       "<g id=\"edge6\" class=\"edge\">\n",
       "<title>5&#45;&gt;6</title>\n",
       "<path fill=\"none\" stroke=\"#000000\" d=\"M354.2964,-103.9815C349.1529,-95.1585 343.7123,-85.8258 338.5384,-76.9506\"/>\n",
       "<polygon fill=\"#000000\" stroke=\"#000000\" points=\"341.5344,-75.1402 333.4743,-68.2637 335.487,-78.6656 341.5344,-75.1402\"/>\n",
       "</g>\n",
       "<!-- 7 -->\n",
       "<g id=\"node8\" class=\"node\">\n",
       "<title>7</title>\n",
       "<path fill=\"#e58139\" fill-opacity=\"0.870588\" stroke=\"#000000\" d=\"M499.5,-68C499.5,-68 403.5,-68 403.5,-68 397.5,-68 391.5,-62 391.5,-56 391.5,-56 391.5,-12 391.5,-12 391.5,-6 397.5,0 403.5,0 403.5,0 499.5,0 499.5,0 505.5,0 511.5,-6 511.5,-12 511.5,-12 511.5,-56 511.5,-56 511.5,-62 505.5,-68 499.5,-68\"/>\n",
       "<text text-anchor=\"middle\" x=\"451.5\" y=\"-52.8\" font-family=\"Helvetica,sans-Serif\" font-size=\"14.00\" fill=\"#000000\">entropy = 0.512</text>\n",
       "<text text-anchor=\"middle\" x=\"451.5\" y=\"-37.8\" font-family=\"Helvetica,sans-Serif\" font-size=\"14.00\" fill=\"#000000\">samples = 421</text>\n",
       "<text text-anchor=\"middle\" x=\"451.5\" y=\"-22.8\" font-family=\"Helvetica,sans-Serif\" font-size=\"14.00\" fill=\"#000000\">value = [373, 48]</text>\n",
       "<text text-anchor=\"middle\" x=\"451.5\" y=\"-7.8\" font-family=\"Helvetica,sans-Serif\" font-size=\"14.00\" fill=\"#000000\">class = Survived</text>\n",
       "</g>\n",
       "<!-- 5&#45;&gt;7 -->\n",
       "<g id=\"edge7\" class=\"edge\">\n",
       "<title>5&#45;&gt;7</title>\n",
       "<path fill=\"none\" stroke=\"#000000\" d=\"M405.6825,-103.9815C411.5192,-95.0666 417.6966,-85.6313 423.5614,-76.6734\"/>\n",
       "<polygon fill=\"#000000\" stroke=\"#000000\" points=\"426.5179,-78.5472 429.0673,-68.2637 420.6614,-74.7129 426.5179,-78.5472\"/>\n",
       "</g>\n",
       "<!-- 9 -->\n",
       "<g id=\"node10\" class=\"node\">\n",
       "<title>9</title>\n",
       "<path fill=\"#399de5\" fill-opacity=\"0.945098\" stroke=\"#000000\" d=\"M693.5,-187C693.5,-187 603.5,-187 603.5,-187 597.5,-187 591.5,-181 591.5,-175 591.5,-175 591.5,-116 591.5,-116 591.5,-110 597.5,-104 603.5,-104 603.5,-104 693.5,-104 693.5,-104 699.5,-104 705.5,-110 705.5,-116 705.5,-116 705.5,-175 705.5,-175 705.5,-181 699.5,-187 693.5,-187\"/>\n",
       "<text text-anchor=\"middle\" x=\"648.5\" y=\"-171.8\" font-family=\"Helvetica,sans-Serif\" font-size=\"14.00\" fill=\"#000000\">Fare &lt;= 0.5</text>\n",
       "<text text-anchor=\"middle\" x=\"648.5\" y=\"-156.8\" font-family=\"Helvetica,sans-Serif\" font-size=\"14.00\" fill=\"#000000\">entropy = 0.299</text>\n",
       "<text text-anchor=\"middle\" x=\"648.5\" y=\"-141.8\" font-family=\"Helvetica,sans-Serif\" font-size=\"14.00\" fill=\"#000000\">samples = 170</text>\n",
       "<text text-anchor=\"middle\" x=\"648.5\" y=\"-126.8\" font-family=\"Helvetica,sans-Serif\" font-size=\"14.00\" fill=\"#000000\">value = [9, 161]</text>\n",
       "<text text-anchor=\"middle\" x=\"648.5\" y=\"-111.8\" font-family=\"Helvetica,sans-Serif\" font-size=\"14.00\" fill=\"#000000\">class = Died</text>\n",
       "</g>\n",
       "<!-- 8&#45;&gt;9 -->\n",
       "<g id=\"edge9\" class=\"edge\">\n",
       "<title>8&#45;&gt;9</title>\n",
       "<path fill=\"none\" stroke=\"#000000\" d=\"M648.5,-222.8796C648.5,-214.6838 648.5,-205.9891 648.5,-197.5013\"/>\n",
       "<polygon fill=\"#000000\" stroke=\"#000000\" points=\"652.0001,-197.298 648.5,-187.2981 645.0001,-197.2981 652.0001,-197.298\"/>\n",
       "</g>\n",
       "<!-- 12 -->\n",
       "<g id=\"node13\" class=\"node\">\n",
       "<title>12</title>\n",
       "<path fill=\"transparent\" stroke=\"#000000\" d=\"M903,-187C903,-187 798,-187 798,-187 792,-187 786,-181 786,-175 786,-175 786,-116 786,-116 786,-110 792,-104 798,-104 798,-104 903,-104 903,-104 909,-104 915,-110 915,-116 915,-116 915,-175 915,-175 915,-181 909,-187 903,-187\"/>\n",
       "<text text-anchor=\"middle\" x=\"850.5\" y=\"-171.8\" font-family=\"Helvetica,sans-Serif\" font-size=\"14.00\" fill=\"#000000\">FamilySize &lt;= 3.5</text>\n",
       "<text text-anchor=\"middle\" x=\"850.5\" y=\"-156.8\" font-family=\"Helvetica,sans-Serif\" font-size=\"14.00\" fill=\"#000000\">entropy = 1.0</text>\n",
       "<text text-anchor=\"middle\" x=\"850.5\" y=\"-141.8\" font-family=\"Helvetica,sans-Serif\" font-size=\"14.00\" fill=\"#000000\">samples = 144</text>\n",
       "<text text-anchor=\"middle\" x=\"850.5\" y=\"-126.8\" font-family=\"Helvetica,sans-Serif\" font-size=\"14.00\" fill=\"#000000\">value = [72, 72]</text>\n",
       "<text text-anchor=\"middle\" x=\"850.5\" y=\"-111.8\" font-family=\"Helvetica,sans-Serif\" font-size=\"14.00\" fill=\"#000000\">class = Survived</text>\n",
       "</g>\n",
       "<!-- 8&#45;&gt;12 -->\n",
       "<g id=\"edge12\" class=\"edge\">\n",
       "<title>8&#45;&gt;12</title>\n",
       "<path fill=\"none\" stroke=\"#000000\" d=\"M708.5597,-229.1183C730.0175,-216.4773 754.4428,-202.0881 776.9104,-188.8523\"/>\n",
       "<polygon fill=\"#000000\" stroke=\"#000000\" points=\"778.9031,-191.7406 785.7427,-183.6491 775.35,-185.7093 778.9031,-191.7406\"/>\n",
       "</g>\n",
       "<!-- 10 -->\n",
       "<g id=\"node11\" class=\"node\">\n",
       "<title>10</title>\n",
       "<path fill=\"#399de5\" fill-opacity=\"0.909804\" stroke=\"#000000\" d=\"M631.5,-68C631.5,-68 541.5,-68 541.5,-68 535.5,-68 529.5,-62 529.5,-56 529.5,-56 529.5,-12 529.5,-12 529.5,-6 535.5,0 541.5,0 541.5,0 631.5,0 631.5,0 637.5,0 643.5,-6 643.5,-12 643.5,-12 643.5,-56 643.5,-56 643.5,-62 637.5,-68 631.5,-68\"/>\n",
       "<text text-anchor=\"middle\" x=\"586.5\" y=\"-52.8\" font-family=\"Helvetica,sans-Serif\" font-size=\"14.00\" fill=\"#000000\">entropy = 0.407</text>\n",
       "<text text-anchor=\"middle\" x=\"586.5\" y=\"-37.8\" font-family=\"Helvetica,sans-Serif\" font-size=\"14.00\" fill=\"#000000\">samples = 86</text>\n",
       "<text text-anchor=\"middle\" x=\"586.5\" y=\"-22.8\" font-family=\"Helvetica,sans-Serif\" font-size=\"14.00\" fill=\"#000000\">value = [7, 79]</text>\n",
       "<text text-anchor=\"middle\" x=\"586.5\" y=\"-7.8\" font-family=\"Helvetica,sans-Serif\" font-size=\"14.00\" fill=\"#000000\">class = Died</text>\n",
       "</g>\n",
       "<!-- 9&#45;&gt;10 -->\n",
       "<g id=\"edge10\" class=\"edge\">\n",
       "<title>9&#45;&gt;10</title>\n",
       "<path fill=\"none\" stroke=\"#000000\" d=\"M625.4135,-103.9815C620.5585,-95.2504 615.426,-86.0202 610.5371,-77.2281\"/>\n",
       "<polygon fill=\"#000000\" stroke=\"#000000\" points=\"613.4712,-75.3025 605.5524,-68.2637 607.3533,-78.7043 613.4712,-75.3025\"/>\n",
       "</g>\n",
       "<!-- 11 -->\n",
       "<g id=\"node12\" class=\"node\">\n",
       "<title>11</title>\n",
       "<path fill=\"#399de5\" fill-opacity=\"0.976471\" stroke=\"#000000\" d=\"M763.5,-68C763.5,-68 673.5,-68 673.5,-68 667.5,-68 661.5,-62 661.5,-56 661.5,-56 661.5,-12 661.5,-12 661.5,-6 667.5,0 673.5,0 673.5,0 763.5,0 763.5,0 769.5,0 775.5,-6 775.5,-12 775.5,-12 775.5,-56 775.5,-56 775.5,-62 769.5,-68 763.5,-68\"/>\n",
       "<text text-anchor=\"middle\" x=\"718.5\" y=\"-52.8\" font-family=\"Helvetica,sans-Serif\" font-size=\"14.00\" fill=\"#000000\">entropy = 0.162</text>\n",
       "<text text-anchor=\"middle\" x=\"718.5\" y=\"-37.8\" font-family=\"Helvetica,sans-Serif\" font-size=\"14.00\" fill=\"#000000\">samples = 84</text>\n",
       "<text text-anchor=\"middle\" x=\"718.5\" y=\"-22.8\" font-family=\"Helvetica,sans-Serif\" font-size=\"14.00\" fill=\"#000000\">value = [2, 82]</text>\n",
       "<text text-anchor=\"middle\" x=\"718.5\" y=\"-7.8\" font-family=\"Helvetica,sans-Serif\" font-size=\"14.00\" fill=\"#000000\">class = Died</text>\n",
       "</g>\n",
       "<!-- 9&#45;&gt;11 -->\n",
       "<g id=\"edge11\" class=\"edge\">\n",
       "<title>9&#45;&gt;11</title>\n",
       "<path fill=\"none\" stroke=\"#000000\" d=\"M674.5654,-103.9815C680.1045,-95.1585 685.9636,-85.8258 691.5355,-76.9506\"/>\n",
       "<polygon fill=\"#000000\" stroke=\"#000000\" points=\"694.6363,-78.594 696.9892,-68.2637 688.7078,-74.872 694.6363,-78.594\"/>\n",
       "</g>\n",
       "<!-- 13 -->\n",
       "<g id=\"node14\" class=\"node\">\n",
       "<title>13</title>\n",
       "<path fill=\"#399de5\" fill-opacity=\"0.305882\" stroke=\"#000000\" d=\"M895.5,-68C895.5,-68 805.5,-68 805.5,-68 799.5,-68 793.5,-62 793.5,-56 793.5,-56 793.5,-12 793.5,-12 793.5,-6 799.5,0 805.5,0 805.5,0 895.5,0 895.5,0 901.5,0 907.5,-6 907.5,-12 907.5,-12 907.5,-56 907.5,-56 907.5,-62 901.5,-68 895.5,-68\"/>\n",
       "<text text-anchor=\"middle\" x=\"850.5\" y=\"-52.8\" font-family=\"Helvetica,sans-Serif\" font-size=\"14.00\" fill=\"#000000\">entropy = 0.977</text>\n",
       "<text text-anchor=\"middle\" x=\"850.5\" y=\"-37.8\" font-family=\"Helvetica,sans-Serif\" font-size=\"14.00\" fill=\"#000000\">samples = 117</text>\n",
       "<text text-anchor=\"middle\" x=\"850.5\" y=\"-22.8\" font-family=\"Helvetica,sans-Serif\" font-size=\"14.00\" fill=\"#000000\">value = [48, 69]</text>\n",
       "<text text-anchor=\"middle\" x=\"850.5\" y=\"-7.8\" font-family=\"Helvetica,sans-Serif\" font-size=\"14.00\" fill=\"#000000\">class = Died</text>\n",
       "</g>\n",
       "<!-- 12&#45;&gt;13 -->\n",
       "<g id=\"edge13\" class=\"edge\">\n",
       "<title>12&#45;&gt;13</title>\n",
       "<path fill=\"none\" stroke=\"#000000\" d=\"M850.5,-103.9815C850.5,-95.618 850.5,-86.7965 850.5,-78.3409\"/>\n",
       "<polygon fill=\"#000000\" stroke=\"#000000\" points=\"854.0001,-78.2636 850.5,-68.2637 847.0001,-78.2637 854.0001,-78.2636\"/>\n",
       "</g>\n",
       "<!-- 14 -->\n",
       "<g id=\"node15\" class=\"node\">\n",
       "<title>14</title>\n",
       "<path fill=\"#e58139\" fill-opacity=\"0.874510\" stroke=\"#000000\" d=\"M1033,-68C1033,-68 938,-68 938,-68 932,-68 926,-62 926,-56 926,-56 926,-12 926,-12 926,-6 932,0 938,0 938,0 1033,0 1033,0 1039,0 1045,-6 1045,-12 1045,-12 1045,-56 1045,-56 1045,-62 1039,-68 1033,-68\"/>\n",
       "<text text-anchor=\"middle\" x=\"985.5\" y=\"-52.8\" font-family=\"Helvetica,sans-Serif\" font-size=\"14.00\" fill=\"#000000\">entropy = 0.503</text>\n",
       "<text text-anchor=\"middle\" x=\"985.5\" y=\"-37.8\" font-family=\"Helvetica,sans-Serif\" font-size=\"14.00\" fill=\"#000000\">samples = 27</text>\n",
       "<text text-anchor=\"middle\" x=\"985.5\" y=\"-22.8\" font-family=\"Helvetica,sans-Serif\" font-size=\"14.00\" fill=\"#000000\">value = [24, 3]</text>\n",
       "<text text-anchor=\"middle\" x=\"985.5\" y=\"-7.8\" font-family=\"Helvetica,sans-Serif\" font-size=\"14.00\" fill=\"#000000\">class = Survived</text>\n",
       "</g>\n",
       "<!-- 12&#45;&gt;14 -->\n",
       "<g id=\"edge14\" class=\"edge\">\n",
       "<title>12&#45;&gt;14</title>\n",
       "<path fill=\"none\" stroke=\"#000000\" d=\"M900.769,-103.9815C912.3418,-94.4232 924.6389,-84.2668 936.1713,-74.7419\"/>\n",
       "<polygon fill=\"#000000\" stroke=\"#000000\" points=\"938.5334,-77.3304 944.0148,-68.2637 934.0757,-71.9332 938.5334,-77.3304\"/>\n",
       "</g>\n",
       "</g>\n",
       "</svg>\n"
      ],
      "text/plain": [
       "<graphviz.files.Source at 0x132e833c8>"
      ]
     },
     "execution_count": 27,
     "metadata": {},
     "output_type": "execute_result"
    }
   ],
   "source": [
    "graph"
   ]
  },
  {
   "cell_type": "markdown",
   "metadata": {},
   "source": [
    "## prediction submission"
   ]
  },
  {
   "cell_type": "code",
   "execution_count": 28,
   "metadata": {},
   "outputs": [],
   "source": [
    "test_features = test_data.values"
   ]
  },
  {
   "cell_type": "code",
   "execution_count": 29,
   "metadata": {},
   "outputs": [],
   "source": [
    "pred_labels = dt_clf.predict(test_features)"
   ]
  },
  {
   "cell_type": "code",
   "execution_count": 30,
   "metadata": {},
   "outputs": [],
   "source": [
    "submission = pd.read_csv('./data/gender_submission.csv')\n",
    "submission['Survived'] = pred_labels"
   ]
  },
  {
   "cell_type": "code",
   "execution_count": 31,
   "metadata": {},
   "outputs": [
    {
     "data": {
      "text/html": [
       "<div>\n",
       "<style scoped>\n",
       "    .dataframe tbody tr th:only-of-type {\n",
       "        vertical-align: middle;\n",
       "    }\n",
       "\n",
       "    .dataframe tbody tr th {\n",
       "        vertical-align: top;\n",
       "    }\n",
       "\n",
       "    .dataframe thead th {\n",
       "        text-align: right;\n",
       "    }\n",
       "</style>\n",
       "<table border=\"1\" class=\"dataframe\">\n",
       "  <thead>\n",
       "    <tr style=\"text-align: right;\">\n",
       "      <th></th>\n",
       "      <th>PassengerId</th>\n",
       "      <th>Survived</th>\n",
       "    </tr>\n",
       "  </thead>\n",
       "  <tbody>\n",
       "    <tr>\n",
       "      <th>0</th>\n",
       "      <td>892</td>\n",
       "      <td>0</td>\n",
       "    </tr>\n",
       "    <tr>\n",
       "      <th>1</th>\n",
       "      <td>893</td>\n",
       "      <td>1</td>\n",
       "    </tr>\n",
       "    <tr>\n",
       "      <th>2</th>\n",
       "      <td>894</td>\n",
       "      <td>0</td>\n",
       "    </tr>\n",
       "    <tr>\n",
       "      <th>3</th>\n",
       "      <td>895</td>\n",
       "      <td>0</td>\n",
       "    </tr>\n",
       "    <tr>\n",
       "      <th>4</th>\n",
       "      <td>896</td>\n",
       "      <td>1</td>\n",
       "    </tr>\n",
       "  </tbody>\n",
       "</table>\n",
       "</div>"
      ],
      "text/plain": [
       "   PassengerId  Survived\n",
       "0          892         0\n",
       "1          893         1\n",
       "2          894         0\n",
       "3          895         0\n",
       "4          896         1"
      ]
     },
     "execution_count": 31,
     "metadata": {},
     "output_type": "execute_result"
    }
   ],
   "source": [
    "submission.head()"
   ]
  },
  {
   "cell_type": "code",
   "execution_count": 32,
   "metadata": {},
   "outputs": [],
   "source": [
    "submission.to_csv('submission.csv', index=False)"
   ]
  },
  {
   "cell_type": "code",
   "execution_count": null,
   "metadata": {},
   "outputs": [],
   "source": []
  }
 ],
 "metadata": {
  "kernelspec": {
   "display_name": "Python 3",
   "language": "python",
   "name": "python3"
  },
  "language_info": {
   "codemirror_mode": {
    "name": "ipython",
    "version": 3
   },
   "file_extension": ".py",
   "mimetype": "text/x-python",
   "name": "python",
   "nbconvert_exporter": "python",
   "pygments_lexer": "ipython3",
   "version": "3.7.2"
  }
 },
 "nbformat": 4,
 "nbformat_minor": 2
}
